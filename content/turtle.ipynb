{
  "metadata": {
    "language_info": {
      "codemirror_mode": {
        "name": "python",
        "version": 3
      },
      "file_extension": ".py",
      "mimetype": "text/x-python",
      "name": "python",
      "nbconvert_exporter": "python",
      "pygments_lexer": "ipython3",
      "version": "3.8"
    },
    "kernelspec": {
      "name": "python",
      "display_name": "Python (Pyodide)",
      "language": "python"
    }
  },
  "nbformat_minor": 4,
  "nbformat": 4,
  "cells": [
    {
      "cell_type": "code",
      "source": "%pip install -q ipycc",
      "metadata": {
        "trusted": true
      },
      "execution_count": 10,
      "outputs": []
    },
    {
      "cell_type": "code",
      "source": "from ipycc import Turtle",
      "metadata": {
        "trusted": true
      },
      "execution_count": 11,
      "outputs": []
    },
    {
      "cell_type": "code",
      "source": "ted = Turtle(500, 500)\nted.draw()\nted.bgcolor(\"midnightblue\")\nted.pencolor(\"ghostwhite\")\nfor side in range(200):\n    length = side * 2\n    ted.fd(length)\n    #await ted.delay(0.1)\n    ted.lt(123)\n    #await ted.delay(0.1)",
      "metadata": {
        "trusted": true
      },
      "execution_count": 12,
      "outputs": [
        {
          "output_type": "display_data",
          "data": {
            "text/plain": "HBox(children=(Box(children=(Canvas(width=500),), layout=Layout(height='500px', width='500px')), VBox()))",
            "application/vnd.jupyter.widget-view+json": {
              "version_major": 2,
              "version_minor": 0,
              "model_id": "1a4537c44b8f4cb7bfcc519241050d32"
            }
          },
          "metadata": {}
        }
      ]
    }
  ]
}